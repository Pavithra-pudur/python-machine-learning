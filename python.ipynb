{
  "nbformat": 4,
  "nbformat_minor": 0,
  "metadata": {
    "colab": {
      "provenance": []
    },
    "kernelspec": {
      "name": "python3",
      "display_name": "Python 3"
    },
    "language_info": {
      "name": "python"
    }
  },
  "cells": [
    {
      "cell_type": "markdown",
      "source": [
        "comparision operators"
      ],
      "metadata": {
        "id": "J4DG62rZtxJb"
      }
    },
    {
      "cell_type": "code",
      "source": [
        "x=4\n",
        "y=20\n",
        "print(f\"{x}=={y}:{x==y}\")\n",
        "print(f\"{x}!={y}:{x!=y}\")\n",
        "print(f\"{x}<{y}:{x<y}\")\n",
        "print(f\"{x}>{y}:{x>y}\")\n",
        "print(f\"{x}<={y}:{x<=y}\")\n",
        "print(f\"{x}>={y}:{x>=y}\")"
      ],
      "metadata": {
        "colab": {
          "base_uri": "https://localhost:8080/"
        },
        "id": "TeDsQdr2t2y7",
        "outputId": "dce1b151-9652-4287-b815-e0e5c3eed446"
      },
      "execution_count": null,
      "outputs": [
        {
          "output_type": "stream",
          "name": "stdout",
          "text": [
            "4==20:False\n",
            "4!=20:True\n",
            "4<20:True\n",
            "4>20:False\n",
            "4<=20:True\n",
            "4>=20:False\n"
          ]
        }
      ]
    },
    {
      "cell_type": "markdown",
      "source": [
        "string comparision"
      ],
      "metadata": {
        "id": "XHobir_dvmrK"
      }
    },
    {
      "cell_type": "code",
      "source": [
        "name=\"hi\"\n",
        "name1=\"hello\"\n",
        "print(f\"'{name}'<'{name1}':{name<name1}\")"
      ],
      "metadata": {
        "colab": {
          "base_uri": "https://localhost:8080/"
        },
        "id": "0AQzi247vpi7",
        "outputId": "26a153e5-335d-45a5-ef8e-9613dca72936"
      },
      "execution_count": null,
      "outputs": [
        {
          "output_type": "stream",
          "name": "stdout",
          "text": [
            "'hi'<'hello':False\n"
          ]
        }
      ]
    },
    {
      "cell_type": "markdown",
      "source": [
        "logical operators"
      ],
      "metadata": {
        "id": "vzMDpaW0wZsq"
      }
    },
    {
      "cell_type": "code",
      "source": [
        "p=True\n",
        "q=False\n",
        "print(f\"p and q:{p and q}\")\n",
        "print(f\"p or q:{p and q}\")\n",
        "print(f\"not p:{ not p}\")"
      ],
      "metadata": {
        "colab": {
          "base_uri": "https://localhost:8080/"
        },
        "id": "LRj-Bjsjwcx5",
        "outputId": "03bd0d59-9df7-4e92-8488-f89724337702"
      },
      "execution_count": null,
      "outputs": [
        {
          "output_type": "stream",
          "name": "stdout",
          "text": [
            "p and q:False\n",
            "p or q:False\n",
            "not p:False\n"
          ]
        }
      ]
    },
    {
      "cell_type": "markdown",
      "source": [
        "practical example"
      ],
      "metadata": {
        "id": "VAGULEA7w7uy"
      }
    },
    {
      "cell_type": "code",
      "source": [
        "age=20\n",
        "has_license=True\n",
        "can_drive=age >=18 and has_license\n",
        "print(f\"can drive:{can_drive}\")\n",
        "\n"
      ],
      "metadata": {
        "colab": {
          "base_uri": "https://localhost:8080/"
        },
        "id": "W8Y0NYyRw_qS",
        "outputId": "23b63ac6-4233-4a61-f0af-263cdff022d1"
      },
      "execution_count": null,
      "outputs": [
        {
          "output_type": "stream",
          "name": "stdout",
          "text": [
            "can drive:True\n"
          ]
        }
      ]
    },
    {
      "cell_type": "code",
      "source": [
        "scores=85\n",
        "is_present=True\n",
        "can_pass=scores >=80 and is_present\n",
        "print(f\"can_pass:{can_pass}\")"
      ],
      "metadata": {
        "colab": {
          "base_uri": "https://localhost:8080/"
        },
        "id": "JoaecIxoxviq",
        "outputId": "af2e1bd9-a5d4-412f-b745-c6a43f9fd8e2"
      },
      "execution_count": null,
      "outputs": [
        {
          "output_type": "stream",
          "name": "stdout",
          "text": [
            "can_pass:True\n"
          ]
        }
      ]
    },
    {
      "cell_type": "markdown",
      "source": [
        "personal information"
      ],
      "metadata": {
        "id": "DAM6Q7F1zRZK"
      }
    },
    {
      "cell_type": "code",
      "source": [
        "age=25\n",
        "annual_income=5000\n",
        "credit_score=720\n",
        "has_collateral=True\n"
      ],
      "metadata": {
        "id": "52iJKWIYzUna"
      },
      "execution_count": null,
      "outputs": []
    },
    {
      "cell_type": "markdown",
      "source": [
        "loan criteria\n"
      ],
      "metadata": {
        "id": "RYJlXqaizocr"
      }
    },
    {
      "cell_type": "code",
      "source": [
        "min_age=18\n",
        "min_income=30000\n",
        "min_credit_score=650"
      ],
      "metadata": {
        "id": "2tLRygneztn6"
      },
      "execution_count": null,
      "outputs": []
    },
    {
      "cell_type": "markdown",
      "source": [
        "check qualification"
      ],
      "metadata": {
        "id": "E1Qpahkw4CRS"
      }
    },
    {
      "cell_type": "code",
      "source": [
        "age_qualified = age >= min_age\n",
        "income_qualified = annual_income >= min\n",
        "credit_qualified = credit_score >="
      ],
      "metadata": {
        "id": "gVRPwpNt4IgS"
      },
      "execution_count": null,
      "outputs": []
    },
    {
      "cell_type": "markdown",
      "source": [
        "data structure\n"
      ],
      "metadata": {
        "id": "axrY0lj8-2va"
      }
    },
    {
      "cell_type": "markdown",
      "source": [
        "list"
      ],
      "metadata": {
        "id": "wAKLK6uK_Avq"
      }
    },
    {
      "cell_type": "markdown",
      "source": [
        "creating list"
      ],
      "metadata": {
        "id": "heiXPTpG_DJa"
      }
    },
    {
      "cell_type": "code",
      "source": [
        "fruits=[\"apple\",\"banana\",\"orange\",\"grapes\"]\n",
        "numbers=[10,20,30,40,50]\n",
        "mixed_data=[1,\"hello\",3.14,True]"
      ],
      "metadata": {
        "id": "UVJYiL3f_FWK"
      },
      "execution_count": null,
      "outputs": []
    },
    {
      "cell_type": "markdown",
      "source": [
        "list indexing"
      ],
      "metadata": {
        "id": "qT2cZpAl_oOc"
      }
    },
    {
      "cell_type": "code",
      "source": [
        "print(f\"first fruit:{fruits[0]}\")\n",
        "print(f\"last fruit:{fruits[-1]}\")\n",
        "print(f\"second to last:{fruits[-2]}\")\n"
      ],
      "metadata": {
        "colab": {
          "base_uri": "https://localhost:8080/"
        },
        "id": "9AWIL03q_v2J",
        "outputId": "f723919a-dc99-430d-adf7-68e135b5ab97"
      },
      "execution_count": null,
      "outputs": [
        {
          "output_type": "stream",
          "name": "stdout",
          "text": [
            "first fruit:apple\n",
            "last fruit:grapes\n",
            "second to last:orange\n"
          ]
        }
      ]
    },
    {
      "cell_type": "markdown",
      "source": [
        "list slicing"
      ],
      "metadata": {
        "id": "kk32kxqHA-Rz"
      }
    },
    {
      "cell_type": "code",
      "source": [
        "print(f\"first 2 fruits:{fruits[0:2]}\")\n",
        "print(f\"last 2 fruits:{fruits[-2:]}\")\n",
        "print(f\"all except first:{fruits[1:]}\")"
      ],
      "metadata": {
        "colab": {
          "base_uri": "https://localhost:8080/"
        },
        "id": "XLMCBhX4A_5q",
        "outputId": "0b02a2a0-8dc0-4d96-e296-a29bf45140a4"
      },
      "execution_count": null,
      "outputs": [
        {
          "output_type": "stream",
          "name": "stdout",
          "text": [
            "first 2 fruits:['apple', 'banana']\n",
            "last 2 fruits:['orange', 'grapes']\n",
            "all except first:['banana', 'orange', 'grapes']\n"
          ]
        }
      ]
    },
    {
      "cell_type": "markdown",
      "source": [
        "list methods"
      ],
      "metadata": {
        "id": "RnqpQfSJBgEy"
      }
    },
    {
      "cell_type": "code",
      "source": [
        "fruits.append(\"kiwi\")\n",
        "fruits.insert(1,\"strawberry\")\n",
        "removed=fruits.pop()\n",
        "print(f\"updated list:{fruits}\")\n",
        "print(f\"removed{removed}\")"
      ],
      "metadata": {
        "colab": {
          "base_uri": "https://localhost:8080/"
        },
        "id": "wGJP_xkvBh0K",
        "outputId": "1c998ca9-3e4b-4332-b4ad-fe3bfa0c6a07"
      },
      "execution_count": null,
      "outputs": [
        {
          "output_type": "stream",
          "name": "stdout",
          "text": [
            "updated list:['apple', 'strawberry', 'banana', 'orange', 'grapes']\n",
            "removedkiwi\n"
          ]
        }
      ]
    },
    {
      "cell_type": "markdown",
      "source": [
        "list operations"
      ],
      "metadata": {
        "id": "26yyv-R5CsID"
      }
    },
    {
      "cell_type": "code",
      "source": [
        "print(f\"length:{len(fruits)}\")\n",
        "print(f\"contains 'apple':{'apple'in fruits}\")\n",
        "print(f\"index of 'banana':{fruits.index('banana')}\")"
      ],
      "metadata": {
        "colab": {
          "base_uri": "https://localhost:8080/"
        },
        "id": "TstSpmAUCuCi",
        "outputId": "5f306cd7-4620-473b-a109-ef2a55dbfd19"
      },
      "execution_count": null,
      "outputs": [
        {
          "output_type": "stream",
          "name": "stdout",
          "text": [
            "length:5\n",
            "contains 'apple':True\n",
            "index of 'banana':2\n"
          ]
        }
      ]
    },
    {
      "cell_type": "markdown",
      "source": [
        "tuples"
      ],
      "metadata": {
        "id": "qdzBq6pCDt9y"
      }
    },
    {
      "cell_type": "code",
      "source": [
        "coordinates=(10,20)\n",
        "rgb_color=(255,128,0)\n",
        "person_info=(\"alice\",25,\"engineer\",True)"
      ],
      "metadata": {
        "id": "gkTKovpHD1ei"
      },
      "execution_count": null,
      "outputs": []
    },
    {
      "cell_type": "markdown",
      "source": [
        "tuples unpacking"
      ],
      "metadata": {
        "id": "Uyx8RTgfEOKK"
      }
    },
    {
      "cell_type": "code",
      "source": [
        "x,y=coordinates\n",
        "print(f\"X:{x},Y:{y}\")\n"
      ],
      "metadata": {
        "colab": {
          "base_uri": "https://localhost:8080/"
        },
        "id": "mHAiGELsERXi",
        "outputId": "9a25c867-40cb-400e-f9ec-fe2dd8971263"
      },
      "execution_count": null,
      "outputs": [
        {
          "output_type": "stream",
          "name": "stdout",
          "text": [
            "X:10,Y:20\n"
          ]
        }
      ]
    },
    {
      "cell_type": "markdown",
      "source": [
        "tuple methods"
      ],
      "metadata": {
        "id": "Xwxyo0ViFaaK"
      }
    },
    {
      "cell_type": "code",
      "source": [
        "print(f\"count of 25:{person_info.count(25)}\")\n",
        "print(f\"index of 'engineer':{person_info.index('engineer')}\")"
      ],
      "metadata": {
        "colab": {
          "base_uri": "https://localhost:8080/"
        },
        "id": "RaUuPVtqFcni",
        "outputId": "a6410ae0-fc1e-4e2a-8c89-fd087f2613c6"
      },
      "execution_count": null,
      "outputs": [
        {
          "output_type": "stream",
          "name": "stdout",
          "text": [
            "count of 25:1\n",
            "index of 'engineer':2\n"
          ]
        }
      ]
    },
    {
      "cell_type": "markdown",
      "source": [
        "why use tuples"
      ],
      "metadata": {
        "id": "ljly3U3eFzki"
      }
    },
    {
      "cell_type": "markdown",
      "source": [
        "- immutable\n",
        "- slightly faster than list\n",
        "- good for fixed connections\n"
      ],
      "metadata": {
        "id": "TVS3d91HGRbC"
      }
    },
    {
      "cell_type": "markdown",
      "source": [
        "dictionaries"
      ],
      "metadata": {
        "id": "byrITfmCELQ4"
      }
    },
    {
      "cell_type": "markdown",
      "source": [
        "dictionary creation"
      ],
      "metadata": {
        "id": "QNO22jN4EP7f"
      }
    },
    {
      "cell_type": "code",
      "source": [
        "person={\n",
        "    \"name\":\"kim jennie\",\n",
        "    \"age\":29,\n",
        "    \"profession\":\"k-pop singer\",\n",
        "    \"salary\":400000,\n",
        "    \"skills\":[\"rapper\",\"vocalist\",\"visual\"]\n",
        "    }"
      ],
      "metadata": {
        "id": "GwOCYwW9EVXo"
      },
      "execution_count": null,
      "outputs": []
    },
    {
      "cell_type": "markdown",
      "source": [],
      "metadata": {
        "id": "W53WM_vZFE_Y"
      }
    },
    {
      "cell_type": "markdown",
      "source": [
        "accessing values"
      ],
      "metadata": {
        "id": "SViynjwLFKA_"
      }
    },
    {
      "cell_type": "code",
      "source": [
        "print(f\"name:{person['name']}\")\n",
        "print(f\"age:{person.get('age','unknown')}\")"
      ],
      "metadata": {
        "colab": {
          "base_uri": "https://localhost:8080/"
        },
        "id": "OOoHCt7LFTTH",
        "outputId": "f19d9db7-d2ae-4b2c-f65a-2cc310571e5e"
      },
      "execution_count": null,
      "outputs": [
        {
          "output_type": "stream",
          "name": "stdout",
          "text": [
            "name:kim jennie\n",
            "age:29\n"
          ]
        }
      ]
    },
    {
      "cell_type": "markdown",
      "source": [
        "dictionary methoda"
      ],
      "metadata": {
        "id": "AivZkKDnF5sX"
      }
    },
    {
      "cell_type": "code",
      "source": [
        "print(f\"Keys:{list(person.keys())}\")\n",
        "print(f\"Values:{list(person.values())}\")\n",
        "print(f\"Items:{list(person.items())}\")\n"
      ],
      "metadata": {
        "colab": {
          "base_uri": "https://localhost:8080/"
        },
        "id": "edMNYMzjF8vP",
        "outputId": "05fb2a9e-1f3d-4c9b-a9a6-e515d591745f"
      },
      "execution_count": null,
      "outputs": [
        {
          "output_type": "stream",
          "name": "stdout",
          "text": [
            "Keys:['name', 'age', 'profession', 'salary', 'skills']\n",
            "Values:['kim jennie', 29, 'k-pop singer', 400000, ['rapper', 'vocalist', 'visual']]\n",
            "Items:[('name', 'kim jennie'), ('age', 29), ('profession', 'k-pop singer'), ('salary', 400000), ('skills', ['rapper', 'vocalist', 'visual'])]\n"
          ]
        }
      ]
    },
    {
      "cell_type": "markdown",
      "source": [
        "adding/updating"
      ],
      "metadata": {
        "id": "mK_-ICrGGyjf"
      }
    },
    {
      "cell_type": "code",
      "source": [
        "person[\"location\"]=\"koria\"\n",
        "person[\"salary\"]=450000"
      ],
      "metadata": {
        "id": "-VUZ3W7xG1UA"
      },
      "execution_count": null,
      "outputs": []
    },
    {
      "cell_type": "markdown",
      "source": [
        "practical use case:inventory management"
      ],
      "metadata": {
        "id": "94kl2MuhHifP"
      }
    },
    {
      "cell_type": "code",
      "source": [
        "inventory={\n",
        "\"laptops\":{\n",
        "    \"quantity\":50,\n",
        "    \"price\":999.99\n",
        " },\n",
        "\"phones\":{\n",
        "    \"quantity\":100,\n",
        "    \"price\":599.99\n",
        " },\n",
        "\"tablets\":{\n",
        "    \"quantity\":30,\n",
        "    \"price\":399.99\n",
        " }\n",
        "}\n"
      ],
      "metadata": {
        "id": "ULKIA4D_HsOn"
      },
      "execution_count": null,
      "outputs": []
    },
    {
      "cell_type": "markdown",
      "source": [
        "nested access"
      ],
      "metadata": {
        "id": "u-CF_VrAJW1_"
      }
    },
    {
      "cell_type": "code",
      "source": [
        "print(f\"laptop price:${inventory['laptops']['price']}\")\n"
      ],
      "metadata": {
        "colab": {
          "base_uri": "https://localhost:8080/"
        },
        "id": "NXDuM4grJajH",
        "outputId": "ad631386-6504-4fa9-c4d4-0eabc809e413"
      },
      "execution_count": null,
      "outputs": [
        {
          "output_type": "stream",
          "name": "stdout",
          "text": [
            "laptop price:$999.99\n"
          ]
        }
      ]
    },
    {
      "cell_type": "markdown",
      "source": [
        "sets cotain unique elemnts"
      ],
      "metadata": {
        "id": "2ShdlxnFKH8w"
      }
    },
    {
      "cell_type": "code",
      "source": [
        "colors={\"purple\",\"blue\",\"wheat\"}\n",
        "print(f\"colors:{colors}\")"
      ],
      "metadata": {
        "colab": {
          "base_uri": "https://localhost:8080/"
        },
        "id": "Z06nxDsHKUK3",
        "outputId": "d93362c4-e807-4f59-cc2b-6d90c63fd276"
      },
      "execution_count": null,
      "outputs": [
        {
          "output_type": "stream",
          "name": "stdout",
          "text": [
            "colors:{'wheat', 'purple', 'blue'}\n"
          ]
        }
      ]
    },
    {
      "cell_type": "markdown",
      "source": [
        "set operations"
      ],
      "metadata": {
        "id": "S2PjqqZYKlVH"
      }
    },
    {
      "cell_type": "code",
      "source": [
        "team1_skills={\"python\",\"javascript\",\"sql\",\"react\"}\n",
        "team2_skills={\"javascript\",\"sql\",\"java\",\"spring\"}"
      ],
      "metadata": {
        "id": "RGpqsgtmKnqe"
      },
      "execution_count": null,
      "outputs": []
    },
    {
      "cell_type": "markdown",
      "source": [
        "common operations"
      ],
      "metadata": {
        "id": "MUsmdb5HLFWH"
      }
    },
    {
      "cell_type": "code",
      "source": [
        "print(f\"common skills:{team1_skills.intersection(team2_skills)}\")\n",
        "print(f\"all skills:{team1_skills.union(team2_skills)}\")\n",
        "print(f\"team only:{team1_skills.difference(team2_skills)}\")\n",
        "\n"
      ],
      "metadata": {
        "colab": {
          "base_uri": "https://localhost:8080/"
        },
        "id": "ooWAN2dwLHnH",
        "outputId": "31cc53c3-3e91-4203-c07a-6409006437d6"
      },
      "execution_count": null,
      "outputs": [
        {
          "output_type": "stream",
          "name": "stdout",
          "text": [
            "common skills:{'javascript', 'sql'}\n",
            "all skills:{'spring', 'sql', 'javascript', 'java', 'python', 'react'}\n",
            "team only:{'react', 'python'}\n"
          ]
        }
      ]
    },
    {
      "cell_type": "markdown",
      "source": [
        "adding to sets"
      ],
      "metadata": {
        "id": "dFpGFzuPLoMg"
      }
    },
    {
      "cell_type": "code",
      "source": [
        "colors.add(\"purple\")\n",
        "colors.update([\"wheat\",\"blue\"])\n",
        "print(f\"updated colors:{colors}\")"
      ],
      "metadata": {
        "colab": {
          "base_uri": "https://localhost:8080/"
        },
        "id": "gQmaK770Lv0f",
        "outputId": "4b824417-96fb-4a79-b0bc-63dee18186c8"
      },
      "execution_count": null,
      "outputs": [
        {
          "output_type": "stream",
          "name": "stdout",
          "text": [
            "updated colors:{'wheat', 'purple', 'blue'}\n"
          ]
        }
      ]
    },
    {
      "cell_type": "markdown",
      "source": [
        "condition flow"
      ],
      "metadata": {
        "id": "YZxig6wNNpTn"
      }
    },
    {
      "cell_type": "markdown",
      "source": [
        "condition flow statements"
      ],
      "metadata": {
        "id": "sZDr5ILYPhSv"
      }
    },
    {
      "cell_type": "markdown",
      "source": [
        "basic if_else"
      ],
      "metadata": {
        "id": "aDeL2r1nPlUv"
      }
    },
    {
      "cell_type": "code",
      "source": [
        "def get_grade_letter(score):\n",
        "  if score >= 90:\n",
        "    return \"A\"\n",
        "  elif score >= 80:\n",
        "    return \"B\"\n",
        "  elif score >= 70:\n",
        "    return \"C\"\n",
        "  elif score >= 60:\n",
        "    return \"D\"\n",
        "  else:\n",
        "      return \"F\"\n",
        "\n"
      ],
      "metadata": {
        "id": "vshhc7gPPrDH"
      },
      "execution_count": null,
      "outputs": []
    },
    {
      "cell_type": "markdown",
      "source": [
        "test the function"
      ],
      "metadata": {
        "id": "qGVkmGLbQhin"
      }
    },
    {
      "cell_type": "code",
      "source": [
        "test_scores=[95,83,72,65,58]\n",
        "for score in test_scores:\n",
        "  grade= get_grade_letter(score)\n",
        "  print(f\"score{score}:Grade{grade}\")"
      ],
      "metadata": {
        "colab": {
          "base_uri": "https://localhost:8080/"
        },
        "id": "WiPJovnvQsjG",
        "outputId": "48a7ee27-22f4-4c35-b924-0a5e8f7f3822"
      },
      "execution_count": null,
      "outputs": [
        {
          "output_type": "stream",
          "name": "stdout",
          "text": [
            "score95:GradeA\n",
            "score83:GradeB\n",
            "score72:GradeC\n",
            "score65:GradeD\n",
            "score58:GradeF\n"
          ]
        }
      ]
    },
    {
      "cell_type": "markdown",
      "source": [
        "nested conditions"
      ],
      "metadata": {
        "id": "YNzrfoIARxNv"
      }
    },
    {
      "cell_type": "code",
      "source": [
        "def get_shipping_cost(weight,distance):\n",
        "  base_cost=5.0\n",
        "\n",
        "  if weight <=1:\n",
        "    weight_cost=2.0\n",
        "  elif weight <=5:\n",
        "    weight_cost=5.0\n",
        "  else:\n",
        "    weight_cost=10.0\n",
        "\n",
        "  if distance <=100:\n",
        "    distance_cost=1.0\n",
        "  elif distance <=500:\n",
        "    distance_cost=3.0\n",
        "  else:\n",
        "    distance_cost =7.0\n",
        "  return base_cost+weight_cost+distance_cost\n"
      ],
      "metadata": {
        "id": "vGfleUiOR0Ku"
      },
      "execution_count": null,
      "outputs": []
    },
    {
      "cell_type": "markdown",
      "source": [
        "test shipping costs"
      ],
      "metadata": {
        "id": "cE7ZSQ72Tff3"
      }
    },
    {
      "cell_type": "code",
      "source": [
        "print(f\"Light,close:${get_shipping_cost(0.5,50)}\")\n",
        "print(f\"heavy,far:${get_shipping_cost(10,800)}\")\n",
        "\n"
      ],
      "metadata": {
        "colab": {
          "base_uri": "https://localhost:8080/"
        },
        "id": "NIxp88zgTqm_",
        "outputId": "e0a12bf9-3464-4e30-dd06-dec4ca5889f3"
      },
      "execution_count": null,
      "outputs": [
        {
          "output_type": "stream",
          "name": "stdout",
          "text": [
            "Light,close:$8.0\n",
            "heavy,far:$22.0\n"
          ]
        }
      ]
    },
    {
      "cell_type": "markdown",
      "source": [
        "basic for loop"
      ],
      "metadata": {
        "id": "b6gMd3fmWjw_"
      }
    },
    {
      "cell_type": "code",
      "source": [
        "fruits={\"apple\",\"banana\",\"orange\",\"grape\"}\n",
        "for fruit in fruits:\n",
        "  print(f\"i like {fruit}\")"
      ],
      "metadata": {
        "colab": {
          "base_uri": "https://localhost:8080/"
        },
        "id": "SlIghOwbWmwW",
        "outputId": "3eea8311-a69f-43f9-e34a-5f3a3014d6dd"
      },
      "execution_count": null,
      "outputs": [
        {
          "output_type": "stream",
          "name": "stdout",
          "text": [
            "i like apple\n",
            "i like banana\n",
            "i like orange\n",
            "i like grape\n"
          ]
        }
      ]
    },
    {
      "cell_type": "markdown",
      "source": [
        "loop with enumerate(get index)"
      ],
      "metadata": {
        "id": "xs77R7PVXqgv"
      }
    },
    {
      "cell_type": "code",
      "source": [
        "for i,fruit in enumerate(fruits):\n",
        "  print(f\"{i+1}.{fruit}\")"
      ],
      "metadata": {
        "colab": {
          "base_uri": "https://localhost:8080/"
        },
        "id": "2uai2HHMXv_3",
        "outputId": "0971a81c-2d40-4173-bc81-539617b30030"
      },
      "execution_count": null,
      "outputs": [
        {
          "output_type": "stream",
          "name": "stdout",
          "text": [
            "1.apple\n",
            "2.banana\n",
            "3.orange\n",
            "4.grape\n"
          ]
        }
      ]
    },
    {
      "cell_type": "markdown",
      "source": [
        "loop with range"
      ],
      "metadata": {
        "id": "aGztE-WJYmyf"
      }
    },
    {
      "cell_type": "code",
      "source": [
        "for day in range(1,8):\n",
        "  print(f\"Day{day}of the week\")"
      ],
      "metadata": {
        "colab": {
          "base_uri": "https://localhost:8080/"
        },
        "id": "AGGwUz42YrmH",
        "outputId": "edc03632-8e11-4483-8863-2bb94ade3cc7"
      },
      "execution_count": null,
      "outputs": [
        {
          "output_type": "stream",
          "name": "stdout",
          "text": [
            "Day1of the week\n",
            "Day2of the week\n",
            "Day3of the week\n",
            "Day4of the week\n",
            "Day5of the week\n",
            "Day6of the week\n",
            "Day7of the week\n"
          ]
        }
      ]
    },
    {
      "cell_type": "markdown",
      "source": [
        "nested loops creating multiplication table"
      ],
      "metadata": {
        "id": "AFH6B_sStG6O"
      }
    },
    {
      "cell_type": "code",
      "source": [
        "print(f\"multiplication table\")\n",
        "for i in range(1,6):\n",
        "  for j in range(1,6):\n",
        "    product=i*j\n",
        "    print(f\"{i}X{j}={product:2d}\",end=\" \")\n",
        "    print()"
      ],
      "metadata": {
        "colab": {
          "base_uri": "https://localhost:8080/"
        },
        "id": "gXUMrP_GtPuO",
        "outputId": "d3c9f71b-65a9-4f76-f7ce-3841c1cd19bf"
      },
      "execution_count": null,
      "outputs": [
        {
          "output_type": "stream",
          "name": "stdout",
          "text": [
            "multiplication table\n",
            "1X1= 1 \n",
            "1X2= 2 \n",
            "1X3= 3 \n",
            "1X4= 4 \n",
            "1X5= 5 \n",
            "2X1= 2 \n",
            "2X2= 4 \n",
            "2X3= 6 \n",
            "2X4= 8 \n",
            "2X5=10 \n",
            "3X1= 3 \n",
            "3X2= 6 \n",
            "3X3= 9 \n",
            "3X4=12 \n",
            "3X5=15 \n",
            "4X1= 4 \n",
            "4X2= 8 \n",
            "4X3=12 \n",
            "4X4=16 \n",
            "4X5=20 \n",
            "5X1= 5 \n",
            "5X2=10 \n",
            "5X3=15 \n",
            "5X4=20 \n",
            "5X5=25 \n"
          ]
        }
      ]
    },
    {
      "cell_type": "markdown",
      "source": [
        "processing data with loops"
      ],
      "metadata": {
        "id": "lev04qYZtvlO"
      }
    },
    {
      "cell_type": "code",
      "source": [
        "sales_data=[\n",
        "    {\"product\":\"Laptop\",\"price\":999,\"quantity\":5},\n",
        "    {\"product\":\"Phone\",\"price\":599,\"quantity\":10},\n",
        "    {\"product\":\"Tablet\",\"price\":399,\"quantity\":8},\n",
        "]\n",
        "total_revenue=0\n",
        "\n",
        "for item in sales_data:\n",
        "  item_revenue=item[\"price\"]*item[\"quantity\"]\n",
        "  total_revenue += item_revenue\n",
        "  print(f\"{item['product']}:${item_revenue}\")\n",
        "  print(f\"Total Revenue:${total_revenue}\")"
      ],
      "metadata": {
        "colab": {
          "base_uri": "https://localhost:8080/"
        },
        "id": "kqZrTiHsuQk1",
        "outputId": "221bb516-1268-4ccc-da68-75995276cff4"
      },
      "execution_count": null,
      "outputs": [
        {
          "output_type": "stream",
          "name": "stdout",
          "text": [
            "Laptop:$4995\n",
            "Total Revenue:$4995\n",
            "Phone:$5990\n",
            "Total Revenue:$10985\n",
            "Tablet:$3192\n",
            "Total Revenue:$14177\n"
          ]
        }
      ]
    },
    {
      "cell_type": "code",
      "source": [
        "def simple_guessing_game():\n",
        "  target=7\n",
        "  guess=0\n",
        "  attempts=0\n",
        "  print(\"guess the number between 1 and 10\")\n",
        "\n",
        "  while guess !=target:\n",
        "\n",
        "    import random\n",
        "    guess=random.randint(1,10)\n",
        "    attempts +=1\n",
        "\n",
        "    if guess < target:\n",
        "      print(f\"Guess{attempts}:{guess} - Too low!\")\n",
        "    elif guess > target:\n",
        "      print(f\"Guess{attempts}:{guess} - Too heigh!\")\n",
        "    else:\n",
        "      print(f\"Guess{attempts}:{guess} - correct!\")\n",
        "\n",
        "      if attempts >10:\n",
        "        print(\"max attempts reached!\")\n",
        "        break\n",
        "\n",
        "    print(f\"game finished in {attempts} attempts\")\n",
        "simple_guessing_game()"
      ],
      "metadata": {
        "colab": {
          "base_uri": "https://localhost:8080/"
        },
        "id": "EMO12c9ow47u",
        "outputId": "538241da-0107-419e-c71d-b4d747b6afbe"
      },
      "execution_count": null,
      "outputs": [
        {
          "output_type": "stream",
          "name": "stdout",
          "text": [
            "guess the number between 1 and 10\n",
            "Guess1:10 - Too heigh!\n",
            "game finished in 1 attempts\n",
            "Guess2:1 - Too low!\n",
            "game finished in 2 attempts\n",
            "Guess3:7 - correct!\n",
            "game finished in 3 attempts\n"
          ]
        }
      ]
    },
    {
      "cell_type": "markdown",
      "source": [
        "while loop for erroring"
      ],
      "metadata": {
        "id": "bQ2hDinSzOx-"
      }
    },
    {
      "cell_type": "code",
      "source": [
        "def process_queue():\n",
        "  queue=[\"Task 1\",\"Task 2\",\"Task 3\",\"Task 4\"]\n",
        "\n",
        "  while queue:\n",
        "    current_task=queue.pop(0)\n",
        "    print(f\"Processing:{current_task}\")\n",
        "\n",
        "    print(f\"Remaining tasks:{len(queue)}\")\n",
        "\n",
        "  print(\"all tasks completed!\")\n",
        "\n",
        "process_queue()"
      ],
      "metadata": {
        "colab": {
          "base_uri": "https://localhost:8080/"
        },
        "id": "LOIUlbyRzvsO",
        "outputId": "85a70b6e-6d37-4bd4-b509-6f5bfe7ff66c"
      },
      "execution_count": null,
      "outputs": [
        {
          "output_type": "stream",
          "name": "stdout",
          "text": [
            "Processing:Task 1\n",
            "Remaining tasks:3\n",
            "Processing:Task 2\n",
            "Remaining tasks:2\n",
            "Processing:Task 3\n",
            "Remaining tasks:1\n",
            "Processing:Task 4\n",
            "Remaining tasks:0\n",
            "all tasks completed!\n"
          ]
        }
      ]
    },
    {
      "cell_type": "markdown",
      "source": [
        "function basics"
      ],
      "metadata": {
        "id": "TtTbweIz1r-W"
      }
    },
    {
      "cell_type": "markdown",
      "source": [
        "basic function defenition"
      ],
      "metadata": {
        "id": "9TmMf5nj1wwO"
      }
    },
    {
      "cell_type": "code",
      "source": [
        "def greet(name):\n",
        "  return f\"hello,{name}!\""
      ],
      "metadata": {
        "id": "BYrZ7cE-10Ol"
      },
      "execution_count": null,
      "outputs": []
    },
    {
      "cell_type": "markdown",
      "source": [
        "function call"
      ],
      "metadata": {
        "id": "3Ivcs8q42FAG"
      }
    },
    {
      "cell_type": "code",
      "source": [
        "message=greet(\"python programmer\")\n",
        "print(message)"
      ],
      "metadata": {
        "colab": {
          "base_uri": "https://localhost:8080/"
        },
        "id": "sgCgMNFv2HHN",
        "outputId": "d7a5585d-ec3e-42fe-96de-80c97fc0b34d"
      },
      "execution_count": null,
      "outputs": [
        {
          "output_type": "stream",
          "name": "stdout",
          "text": [
            "hello,python programmer!\n"
          ]
        }
      ]
    },
    {
      "cell_type": "markdown",
      "source": [
        "function with multiple parameters"
      ],
      "metadata": {
        "id": "Pq3KFf8U2oqe"
      }
    },
    {
      "cell_type": "code",
      "source": [
        "def calculate_area(length,width):\n",
        "  area=length*width\n",
        "  return area\n"
      ],
      "metadata": {
        "id": "-tkFo-i-2uXN"
      },
      "execution_count": null,
      "outputs": []
    },
    {
      "cell_type": "markdown",
      "source": [
        "test the fun"
      ],
      "metadata": {
        "id": "vMNiAJSO3YK2"
      }
    },
    {
      "cell_type": "code",
      "source": [
        "room_area=calculate_area(12,10)\n",
        "print(f\"room area:{room_area}square feet\")"
      ],
      "metadata": {
        "colab": {
          "base_uri": "https://localhost:8080/"
        },
        "id": "BbA-fB1-3aN1",
        "outputId": "c6f84f22-f878-49f2-bfae-0df0bae461a1"
      },
      "execution_count": null,
      "outputs": [
        {
          "output_type": "stream",
          "name": "stdout",
          "text": [
            "room area:120square feet\n"
          ]
        }
      ]
    },
    {
      "cell_type": "markdown",
      "source": [
        "fun with default parameters"
      ],
      "metadata": {
        "id": "9_d2ulou37BG"
      }
    },
    {
      "cell_type": "code",
      "source": [
        "def create_user_profile(name,age=18,location=\"unknown\",active=True):\n",
        "  return{\n",
        "      \"name\":name,\n",
        "      \"age\":age,\n",
        "      \"location\":location,\n",
        "      \"active\":active\n",
        "  }"
      ],
      "metadata": {
        "id": "yIG7hvs53_gF"
      },
      "execution_count": null,
      "outputs": []
    },
    {
      "cell_type": "markdown",
      "source": [
        "different ways to call"
      ],
      "metadata": {
        "id": "fDGfyTQV5J1m"
      }
    },
    {
      "cell_type": "code",
      "source": [
        "profile1=create_user_profile(\"belpuri\")\n",
        "profile2=create_user_profile(\"masalpuri\")\n",
        "profile3=create_user_profile(\"panipuri\",location=\"savnur\",age=30)\n",
        "\n",
        "print(f\"profile 1:{profile1}\")\n",
        "print(f\"profile 2:{profile2}\")\n",
        "print(f\"profile 3:{profile3}\")\n",
        "\n"
      ],
      "metadata": {
        "colab": {
          "base_uri": "https://localhost:8080/"
        },
        "id": "LoRo_EVz5UOl",
        "outputId": "764d5f05-16a9-41b4-ddcb-24b034e43fb1"
      },
      "execution_count": null,
      "outputs": [
        {
          "output_type": "stream",
          "name": "stdout",
          "text": [
            "profile 1:{'name': 'belpuri', 'age': 18, 'location': 'unknown', 'active': True}\n",
            "profile 2:{'name': 'masalpuri', 'age': 18, 'location': 'unknown', 'active': True}\n",
            "profile 3:{'name': 'panipuri', 'age': 30, 'location': 'savnur', 'active': True}\n"
          ]
        }
      ]
    },
    {
      "cell_type": "markdown",
      "source": [
        "fun returning multiple values"
      ],
      "metadata": {
        "id": "LXRcUCHj8xgl"
      }
    },
    {
      "cell_type": "code",
      "source": [
        "def analyze_text(text):\n",
        "  words=text.split()\n",
        "  word_count=len(words)\n",
        "  char_count=len(text)\n",
        "  char_count_no_spaces=len(text.replace(\" \",\"\"))\n",
        "\n",
        "  return word_count,char_count,char_count_no_spaces\n"
      ],
      "metadata": {
        "id": "038RKYBa83ad"
      },
      "execution_count": null,
      "outputs": []
    },
    {
      "cell_type": "markdown",
      "source": [
        "test with sample test"
      ],
      "metadata": {
        "id": "Taj6w_Ut9vEm"
      }
    },
    {
      "cell_type": "code",
      "source": [
        "sample_text=\"Python is a powerful programming language\"\n",
        "words,chars,chars_no_space=analyze_text(sample_text)\n",
        "\n",
        "print(f\"text:'{sample_text}'\")\n",
        "print(f\"word count:{words}\")\n",
        "print(f\"characters (no spaces):{chars_no_space}\")"
      ],
      "metadata": {
        "colab": {
          "base_uri": "https://localhost:8080/"
        },
        "id": "Mh2P7EjD9yit",
        "outputId": "9938a96b-18c7-469c-91f0-3012bf6d862d"
      },
      "execution_count": null,
      "outputs": [
        {
          "output_type": "stream",
          "name": "stdout",
          "text": [
            "text:'Python is a powerful programming language'\n",
            "word count:6\n",
            "characters (no spaces):36\n"
          ]
        }
      ]
    },
    {
      "cell_type": "markdown",
      "source": [
        "variable length args"
      ],
      "metadata": {
        "id": "7GUHXISQ_nAf"
      }
    },
    {
      "cell_type": "code",
      "source": [
        "def calculate_average(*numbers):\n",
        "  if not numbers:\n",
        "    return 0\n",
        "\n",
        "  return sum(numbers)/len(numbers)"
      ],
      "metadata": {
        "id": "V3zZYrjy_rDV"
      },
      "execution_count": null,
      "outputs": []
    },
    {
      "cell_type": "markdown",
      "source": [
        "test with different numbers of agrs"
      ],
      "metadata": {
        "id": "UYBIZZanAPq_"
      }
    },
    {
      "cell_type": "code",
      "source": [
        "avg1=calculate_average(10,20,30)\n",
        "avg2=calculate_average(5,15,25,35,45)\n",
        "avg3=calculate_average(100)"
      ],
      "metadata": {
        "id": "Cj4XsVPfAXBV"
      },
      "execution_count": null,
      "outputs": []
    },
    {
      "cell_type": "code",
      "source": [
        "print(f\"average of 10,20,30:{avg1}\")\n",
        "print(f\"average of 5,15,25,35,45:{avg2}\")\n",
        "print(f\"average of 100:{avg3}\")\n",
        "\n"
      ],
      "metadata": {
        "colab": {
          "base_uri": "https://localhost:8080/"
        },
        "id": "2m2EFxYyAu5W",
        "outputId": "f90161a3-612a-47fc-ae85-a1871ec825a2"
      },
      "execution_count": null,
      "outputs": [
        {
          "output_type": "stream",
          "name": "stdout",
          "text": [
            "average of 10,20,30:20.0\n",
            "average of 5,15,25,35,45:25.0\n",
            "average of 100:100.0\n"
          ]
        }
      ]
    },
    {
      "cell_type": "markdown",
      "source": [
        "keyword args"
      ],
      "metadata": {
        "id": "07n7uAxFBDe2"
      }
    },
    {
      "cell_type": "code",
      "source": [
        "def create_report(**data):\n",
        "  print(\"===REPORT===\")\n",
        "\n",
        "  for key,value in data.items():\n",
        "    print(f\"{key.replace('_',' ').title()}{value}\")\n",
        "\n",
        "  print(\"===============\")\n",
        "\n",
        "create_report(\n",
        "    title=\"Monthly Sales Report\",\n",
        "    date=\"2024-01-01\",\n",
        "    total_sales=15000,\n",
        "    new_customers=25,\n",
        "    returning_customers=150\n",
        ")\n"
      ],
      "metadata": {
        "colab": {
          "base_uri": "https://localhost:8080/"
        },
        "id": "lqchpKMKBFO8",
        "outputId": "fc18f726-e034-43b2-b3f1-775456138fc4"
      },
      "execution_count": null,
      "outputs": [
        {
          "output_type": "stream",
          "name": "stdout",
          "text": [
            "===REPORT===\n",
            "TitleMonthly Sales Report\n",
            "Date2024-01-01\n",
            "Total Sales15000\n",
            "New Customers25\n",
            "Returning Customers150\n",
            "===============\n"
          ]
        }
      ]
    },
    {
      "cell_type": "markdown",
      "source": [
        "regular fun"
      ],
      "metadata": {
        "id": "HMvTxpesDHcG"
      }
    },
    {
      "cell_type": "code",
      "source": [
        "def square(x):\n",
        "  return x**2\n"
      ],
      "metadata": {
        "id": "zKu6gX4sDIv0"
      },
      "execution_count": null,
      "outputs": []
    },
    {
      "cell_type": "markdown",
      "source": [
        "lamda equivalent"
      ],
      "metadata": {
        "id": "kwp9Ad1gD4MF"
      }
    },
    {
      "cell_type": "code",
      "source": [
        "square_lambda=lambda x: x**2\n",
        "print(f\"Regular function:{square(5)}\")\n",
        "print(f\"Regular function:{square_lambda(5)}\")\n",
        "\n",
        "\n"
      ],
      "metadata": {
        "colab": {
          "base_uri": "https://localhost:8080/"
        },
        "id": "tJnsTgqoD8Fd",
        "outputId": "d3e18606-b221-4ff6-ac6f-847fa6380d36"
      },
      "execution_count": null,
      "outputs": [
        {
          "output_type": "stream",
          "name": "stdout",
          "text": [
            "Regular function:25\n",
            "Regular function:25\n"
          ]
        }
      ]
    },
    {
      "cell_type": "markdown",
      "source": [
        "lambda with args"
      ],
      "metadata": {
        "id": "A4-Xw1ahG6pW"
      }
    },
    {
      "cell_type": "code",
      "source": [
        "multiply=lambda x,y:x*y\n",
        "print(f\"Multiply:{multiply(3,4)}\")"
      ],
      "metadata": {
        "colab": {
          "base_uri": "https://localhost:8080/"
        },
        "id": "itbOC5iTG-qs",
        "outputId": "d5efa8be-6d36-4353-a7fe-bbeafa6c6afb"
      },
      "execution_count": null,
      "outputs": [
        {
          "output_type": "stream",
          "name": "stdout",
          "text": [
            "Multiply:12\n"
          ]
        }
      ]
    },
    {
      "cell_type": "markdown",
      "source": [
        "lambda with build in fun"
      ],
      "metadata": {
        "id": "0xL3u6VzHUhM"
      }
    },
    {
      "cell_type": "code",
      "source": [
        "numbers=[1,2,3,4,5]\n",
        "squared=list(map(lambda x:x**2,numbers))\n",
        "print(f\"Squared numbers:{squared}\")"
      ],
      "metadata": {
        "colab": {
          "base_uri": "https://localhost:8080/"
        },
        "id": "nbShXQ8SHX4M",
        "outputId": "24c52c79-ae44-4b29-b300-1a032cce234e"
      },
      "execution_count": null,
      "outputs": [
        {
          "output_type": "stream",
          "name": "stdout",
          "text": [
            "Squared numbers:[1, 4, 9, 16, 25]\n"
          ]
        }
      ]
    },
    {
      "cell_type": "markdown",
      "source": [
        "filtering with lambda"
      ],
      "metadata": {
        "id": "JZFjSlcWIBjl"
      }
    },
    {
      "cell_type": "code",
      "source": [
        "ages=[16,21,35,45,18,67]\n",
        "adults=list(filter(lambda age:age >=18,ages))\n",
        "print(f\"Adult ages:{adults}\")\n"
      ],
      "metadata": {
        "colab": {
          "base_uri": "https://localhost:8080/"
        },
        "id": "Aj6C20MpIk28",
        "outputId": "661d2ffa-679b-4293-dccb-7137eae846ad"
      },
      "execution_count": null,
      "outputs": [
        {
          "output_type": "stream",
          "name": "stdout",
          "text": [
            "Adult ages:[21, 35, 45, 18, 67]\n"
          ]
        }
      ]
    },
    {
      "cell_type": "markdown",
      "source": [
        "sorting wittth lambda"
      ],
      "metadata": {
        "id": "thrv1psrI_QF"
      }
    },
    {
      "cell_type": "code",
      "source": [
        "people=[\n",
        "    {\"name\":'Alice',\"age\":30},\n",
        "    {\"name\":\"Bob\",\"age\":25},\n",
        "    {\"name\":\"charlie\",\"age\":35},\n",
        "]\n",
        "sorted_people=sorted(\n",
        "    people,\n",
        "    key=lambda person:person[\"age\"])\n",
        "print(\"people sorted by age:\")\n",
        "\n",
        "for person in sorted_people:\n",
        "  print(f\"{person['name']}:{person['age']}\")"
      ],
      "metadata": {
        "colab": {
          "base_uri": "https://localhost:8080/"
        },
        "id": "W-GzisopJWHM",
        "outputId": "4f268150-8662-4cb2-95f0-c86bdc7137eb"
      },
      "execution_count": null,
      "outputs": [
        {
          "output_type": "stream",
          "name": "stdout",
          "text": [
            "people sorted by age:\n",
            "Bob:25\n",
            "Alice:30\n",
            "charlie:35\n"
          ]
        }
      ]
    }
  ]
}